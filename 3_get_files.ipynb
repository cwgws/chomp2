{
 "cells": [
  {
   "cell_type": "markdown",
   "metadata": {},
   "source": [
    "# 3. Get Files\n",
    "\n",
    "__by Sean Gilleran__  \n",
    "__Last updated November 29__, __2021__  \n",
    "[https://github.com/seangilleran/ia-compmag-collect](https://github.com/seangilleran/ia-compmag-collect)\n",
    "\n",
    "This notebook downloads files from metadata."
   ]
  },
  {
   "cell_type": "markdown",
   "metadata": {},
   "source": [
    "## 3.1 Setup"
   ]
  },
  {
   "cell_type": "markdown",
   "metadata": {},
   "source": [
    "### 3.1.1 Imports"
   ]
  },
  {
   "cell_type": "code",
   "execution_count": null,
   "metadata": {},
   "outputs": [],
   "source": [
    "from datetime import datetime\n",
    "import json\n",
    "import os\n",
    "\n",
    "import dateparser\n",
    "import regex as re\n",
    "import wget\n",
    "\n",
    "re_date_full = re.compile(r\"(19[6-9]\\d|20[0-1]\\d)-[0-1]\\d\")\n",
    "re_date_year = re.compile(r\"19[6-9]\\d|20[0-1]\\d\")\n",
    "\n",
    "\n",
    "def ts():\n",
    "    return f\"[{datetime.now().strftime('%X')}]\""
   ]
  },
  {
   "cell_type": "markdown",
   "metadata": {},
   "source": [
    "### 3.1.2 Set Paths\n",
    "\n",
    "Set metadata and corpus paths."
   ]
  },
  {
   "cell_type": "code",
   "execution_count": null,
   "metadata": {},
   "outputs": [],
   "source": [
    "metadata_path = \"./meta\"\n",
    "download_path = \"./downloads\""
   ]
  },
  {
   "cell_type": "markdown",
   "metadata": {},
   "source": [
    "### 3.1.3 Set Download Formats\n",
    "\n",
    "List of file formats to download."
   ]
  },
  {
   "cell_type": "code",
   "execution_count": null,
   "metadata": {},
   "outputs": [],
   "source": [
    "download_formats = [\"DjVuTXT\"]"
   ]
  },
  {
   "cell_type": "markdown",
   "metadata": {},
   "source": [
    "## 3.2 Download Files"
   ]
  },
  {
   "cell_type": "markdown",
   "metadata": {},
   "source": [
    "### 3.2.1 Find Files in Metadata\n",
    "\n",
    "Put together a list of URLs to download. Skip it if we've already got a copy."
   ]
  },
  {
   "cell_type": "code",
   "execution_count": null,
   "metadata": {},
   "outputs": [],
   "source": [
    "# Load collections from JSON.\n",
    "# TODO: Catch JSON load errors.\n",
    "collections = []\n",
    "for file in [f for f in os.listdir(metadata_path) if f.endswith(\".json\")]:\n",
    "    with open(os.path.join(metadata_path, file), \"r\", encoding=\"utf-8\") as f:\n",
    "        collections.append(json.load(f))\n",
    "\n",
    "# Assemble download URLs.\n",
    "downloads = []\n",
    "skip_count = 0\n",
    "\n",
    "for collection in collections:\n",
    "    for item in collection[\"items\"]:\n",
    "\n",
    "        # Check for metadata.\n",
    "        if isinstance(item, str):\n",
    "            print(f\"{ts()} WRN: No metadata for {item['name']}, skipping.\")\n",
    "            continue\n",
    "\n",
    "        # Find date.\n",
    "        date = item[\"date\"]\n",
    "        try:\n",
    "            date = dateparser.parse(date, settings=dict(REQUIRE_PARTS=[\"month\", \"year\"]))\n",
    "            date = date.strftime(\"%Y-%m\")\n",
    "        except Exception:\n",
    "            pass\n",
    "\n",
    "        for file in item[\"files\"]:\n",
    "\n",
    "            # Check file type.\n",
    "            if file[\"format\"] not in download_formats:\n",
    "                skip_count = skip_count + 1\n",
    "                continue\n",
    "\n",
    "            # Find date (if not stored in item metadata).\n",
    "            if not date or date == \"\":\n",
    "                try:\n",
    "                    date = re_date_full.search(file[\"name\"]).group(0)\n",
    "                    date = date.strftime(\"%Y-%m\")\n",
    "                except Exception:\n",
    "                    skip_count = skip_count + 1\n",
    "                    continue\n",
    "\n",
    "            # Assemble a full filename.\n",
    "            # NB: a handful of files have local path names boiled in somehow. These tend to\n",
    "            # break things, so let's get rid of them.\n",
    "            filename = file[\"name\"][4:].split(\"/\")[-1].split(\"\\\\\")[-1]\n",
    "            filename = f\"{date} - {filename} - {file['id']}.{file['ext']}\"\n",
    "\n",
    "            # Make sure we don't already have it.\n",
    "            if os.path.exists(os.path.join(download_path, filename)):\n",
    "                skip_count = skip_count + 1\n",
    "                continue\n",
    "\n",
    "            # Add it to the pile.\n",
    "            print(f\".\", end=\"\")\n",
    "            downloads.append((file[\"url\"], filename))\n",
    "\n",
    "print(f\"\\n{ts()} ** DONE! **\")\n",
    "print(f\"Found {len(downloads)} files to download ({skip_count} skipped).\")\n"
   ]
  },
  {
   "cell_type": "markdown",
   "metadata": {},
   "source": [
    "### 3.2.2 Download Files"
   ]
  },
  {
   "cell_type": "code",
   "execution_count": null,
   "metadata": {},
   "outputs": [],
   "source": [
    "skip_count = 0\n",
    "download_count = 0\n",
    "\n",
    "for url, filename in downloads:\n",
    "\n",
    "    if not os.path.exists(download_path):\n",
    "        os.makedirs(os.path.abspath(download_path))\n",
    "\n",
    "    try:\n",
    "        print(f\"{ts()} Downloading {url}...\")\n",
    "        newfile = wget.download(url)\n",
    "    except Exception:\n",
    "        print(f\"{ts()} ERR: Could not download file!\")\n",
    "        skip_count = skip_count + 1\n",
    "        continue\n",
    "\n",
    "    os.rename(os.path.abspath(newfile), os.path.abspath(os.path.join(download_path, filename)))\n",
    "    download_count = download_count + 1\n",
    "\n",
    "print(f\"\\n{ts()} ** DONE! **\")\n",
    "print(f\"Downloaded {download_count} files ({skip_count} skipped).\")"
   ]
  }
 ],
 "metadata": {
  "interpreter": {
   "hash": "ee8b9ecf46cc6e5ba1fee164dfe9a5d29badbac7e0088ca9fcb20f159d16cfe8"
  },
  "kernelspec": {
   "display_name": "Python 3.10.0 64-bit ('.env': venv)",
   "language": "python",
   "name": "python3"
  },
  "language_info": {
   "codemirror_mode": {
    "name": "ipython",
    "version": 3
   },
   "file_extension": ".py",
   "mimetype": "text/x-python",
   "name": "python",
   "nbconvert_exporter": "python",
   "pygments_lexer": "ipython3",
   "version": "3.10.0"
  },
  "orig_nbformat": 4
 },
 "nbformat": 4,
 "nbformat_minor": 2
}
